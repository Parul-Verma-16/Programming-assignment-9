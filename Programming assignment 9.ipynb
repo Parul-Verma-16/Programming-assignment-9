{
 "cells": [
  {
   "cell_type": "markdown",
   "id": "7ad0d115",
   "metadata": {},
   "source": [
    "## 1) Write a Python program to check if the given number is a Disarium Number?"
   ]
  },
  {
   "cell_type": "code",
   "execution_count": 1,
   "id": "141e304b",
   "metadata": {},
   "outputs": [
    {
     "name": "stdout",
     "output_type": "stream",
     "text": [
      "Enter a number: 175\n",
      "175 is a Disarium number\n"
     ]
    }
   ],
   "source": [
    "def is_disarium(number):\n",
    "    # Convert the number to a string to iterate over its digits\n",
    "    number_str = str(number)\n",
    "    length = len(number_str)\n",
    "    disarium_sum = 0\n",
    "\n",
    "    # Iterate over each digit and calculate the sum\n",
    "    for i in range(length):\n",
    "        digit = int(number_str[i])\n",
    "        disarium_sum += digit ** (i + 1)\n",
    "\n",
    "    # Check if the sum is equal to the original number\n",
    "    return disarium_sum == number\n",
    "\n",
    "# Test the program\n",
    "number = int(input(\"Enter a number: \"))\n",
    "if is_disarium(number):\n",
    "    print(number, \"is a Disarium number\")\n",
    "else:\n",
    "    print(number, \"is not a Disarium number\")"
   ]
  },
  {
   "cell_type": "markdown",
   "id": "5959bfc3",
   "metadata": {},
   "source": [
    "## 2) Write a Python program to print all disarium numbers between 1 to 100?"
   ]
  },
  {
   "cell_type": "code",
   "execution_count": 2,
   "id": "285f5570",
   "metadata": {},
   "outputs": [
    {
     "name": "stdout",
     "output_type": "stream",
     "text": [
      "1\n",
      "2\n",
      "3\n",
      "4\n",
      "5\n",
      "6\n",
      "7\n",
      "8\n",
      "9\n",
      "89\n"
     ]
    }
   ],
   "source": [
    "def is_disarium(number):\n",
    "    # Convert the number to a string to iterate over its digits\n",
    "    number_str = str(number)\n",
    "    length = len(number_str)\n",
    "    disarium_sum = 0\n",
    "\n",
    "    # Iterate over each digit and calculate the sum\n",
    "    for i in range(length):\n",
    "        digit = int(number_str[i])\n",
    "        disarium_sum += digit ** (i + 1)\n",
    "\n",
    "    # Check if the sum is equal to the original number\n",
    "    return disarium_sum == number\n",
    "\n",
    "\n",
    "# Iterate over numbers from 1 to 100\n",
    "for number in range(1, 101):\n",
    "    if is_disarium(number):\n",
    "        print(number)"
   ]
  },
  {
   "cell_type": "markdown",
   "id": "e2778a75",
   "metadata": {},
   "source": [
    "## 3) Write a Python program to check if the given number is Happy Number?"
   ]
  },
  {
   "cell_type": "code",
   "execution_count": 3,
   "id": "093de60c",
   "metadata": {},
   "outputs": [
    {
     "name": "stdout",
     "output_type": "stream",
     "text": [
      "Enter a number: 28\n",
      "28 is a Happy Number\n"
     ]
    }
   ],
   "source": [
    "def is_happy_number(num):\n",
    "    visited = set()  # To keep track of visited numbers\n",
    "    while num != 1:\n",
    "        if num in visited:\n",
    "            return False  # Detected a cycle, not a happy number\n",
    "        visited.add(num)\n",
    "        num = sum(int(digit) ** 2 for digit in str(num))\n",
    "    return True\n",
    "\n",
    "\n",
    "# Test the program\n",
    "number = int(input(\"Enter a number: \"))\n",
    "if is_happy_number(number):\n",
    "    print(number, \"is a Happy Number\")\n",
    "else:\n",
    "    print(number, \"is not a Happy Number\")"
   ]
  },
  {
   "cell_type": "markdown",
   "id": "18dcd6f5",
   "metadata": {},
   "source": [
    "## 4) Write a Python program to print all happy numbers between 1 and 100?"
   ]
  },
  {
   "cell_type": "code",
   "execution_count": 4,
   "id": "4b5a83ff",
   "metadata": {},
   "outputs": [
    {
     "name": "stdout",
     "output_type": "stream",
     "text": [
      "Happy Numbers between 1 and 100:\n",
      "[1, 7, 10, 13, 19, 23, 28, 31, 32, 44, 49, 68, 70, 79, 82, 86, 91, 94, 97, 100]\n"
     ]
    }
   ],
   "source": [
    "def is_happy_number(num):\n",
    "    visited = set()  # To keep track of visited numbers\n",
    "    while num != 1:\n",
    "        if num in visited:\n",
    "            return False  # Detected a cycle, not a happy number\n",
    "        visited.add(num)\n",
    "        num = sum(int(digit) ** 2 for digit in str(num))\n",
    "    return True\n",
    "\n",
    "\n",
    "# Find and print all happy numbers between 1 and 100\n",
    "happy_numbers = []\n",
    "for number in range(1, 101):\n",
    "    if is_happy_number(number):\n",
    "        happy_numbers.append(number)\n",
    "\n",
    "print(\"Happy Numbers between 1 and 100:\")\n",
    "print(happy_numbers)"
   ]
  },
  {
   "cell_type": "markdown",
   "id": "c7123ffb",
   "metadata": {},
   "source": [
    "## 5) Write a Python program to determine whether the given number is a Harshad Number?"
   ]
  },
  {
   "cell_type": "code",
   "execution_count": 5,
   "id": "e87c1d01",
   "metadata": {},
   "outputs": [
    {
     "name": "stdout",
     "output_type": "stream",
     "text": [
      "18 is a Harshad Number.\n",
      "42 is a Harshad Number.\n",
      "56 is not a Harshad Number.\n",
      "121 is not a Harshad Number.\n",
      "144 is a Harshad Number.\n"
     ]
    }
   ],
   "source": [
    "def is_harshad_number(num):\n",
    "    # Calculate the sum of digits\n",
    "    digit_sum = sum(int(digit) for digit in str(num))\n",
    "    # Check if the number is divisible by the sum of its digits\n",
    "    return num % digit_sum == 0\n",
    "\n",
    "\n",
    "# Test the program with some sample numbers\n",
    "numbers = [18, 42, 56, 121, 144]\n",
    "\n",
    "for number in numbers:\n",
    "    if is_harshad_number(number):\n",
    "        print(f\"{number} is a Harshad Number.\")\n",
    "    else:\n",
    "        print(f\"{number} is not a Harshad Number.\")"
   ]
  },
  {
   "cell_type": "markdown",
   "id": "51c4fbc1",
   "metadata": {},
   "source": [
    "## 6) Write a Python program to print all pronic numbers between 1 and 100?"
   ]
  },
  {
   "cell_type": "code",
   "execution_count": 6,
   "id": "a0990b5d",
   "metadata": {},
   "outputs": [
    {
     "name": "stdout",
     "output_type": "stream",
     "text": [
      "Pronic numbers between 1 and 100:\n",
      "2\n",
      "6\n",
      "12\n",
      "20\n",
      "30\n",
      "42\n",
      "56\n",
      "72\n",
      "90\n"
     ]
    }
   ],
   "source": [
    "def is_pronic_number(num):\n",
    "    # Check if the number is a product of two consecutive integers\n",
    "    for i in range(1, int(num ** 0.5) + 1):\n",
    "        if i * (i + 1) == num:\n",
    "            return True\n",
    "    return False\n",
    "\n",
    "\n",
    "# Print all pronic numbers between 1 and 100\n",
    "print(\"Pronic numbers between 1 and 100:\")\n",
    "for number in range(1, 101):\n",
    "    if is_pronic_number(number):\n",
    "        print(number)"
   ]
  }
 ],
 "metadata": {
  "kernelspec": {
   "display_name": "Python 3 (ipykernel)",
   "language": "python",
   "name": "python3"
  },
  "language_info": {
   "codemirror_mode": {
    "name": "ipython",
    "version": 3
   },
   "file_extension": ".py",
   "mimetype": "text/x-python",
   "name": "python",
   "nbconvert_exporter": "python",
   "pygments_lexer": "ipython3",
   "version": "3.9.13"
  }
 },
 "nbformat": 4,
 "nbformat_minor": 5
}
